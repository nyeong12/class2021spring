{
  "nbformat": 4,
  "nbformat_minor": 0,
  "metadata": {
    "kernelspec": {
      "display_name": "Python 3",
      "language": "python",
      "name": "python3"
    },
    "language_info": {
      "codemirror_mode": {
        "name": "ipython",
        "version": 3
      },
      "file_extension": ".py",
      "mimetype": "text/x-python",
      "name": "python",
      "nbconvert_exporter": "python",
      "pygments_lexer": "ipython3",
      "version": "3.7.1"
    },
    "colab": {
      "name": "string.ipynb",
      "provenance": []
    }
  },
  "cells": [
    {
      "cell_type": "code",
      "metadata": {
        "id": "q3rAOE-wurKY",
        "colab": {
          "base_uri": "https://localhost:8080/"
        },
        "outputId": "4bb89bc1-9787-450f-b8f2-89b76dffc4c9"
      },
      "source": [
        "s = 'abcdef' #string은 character의 결합, \n",
        "print(s[4])\n",
        "print(s[0], s[5], s[-1], s[-6]) #s[-1]번째는 오른쪽에서 첫 번째\n",
        "print(s[1:3], s[1:], s[:3], s[:]) #print[x:y]-x번째에서 y번째 \"전\"까지\n",
        "print(s[1:-1]) #-1의 전은 -2까지"
      ],
      "execution_count": 3,
      "outputs": [
        {
          "output_type": "stream",
          "text": [
            "e\n",
            "a f f a\n",
            "bc bcdef abc abcdef\n",
            "bcde\n"
          ],
          "name": "stdout"
        }
      ]
    },
    {
      "cell_type": "code",
      "metadata": {
        "id": "6gW7LcAjurKe",
        "colab": {
          "base_uri": "https://localhost:8080/"
        },
        "outputId": "c4e85fed-9e0b-4e4d-97e7-ca5ab845dd5e"
      },
      "source": [
        "n = [100, 200, 300]\n",
        "print(n[0], n[2], n[-1], n[-3])\n",
        "print(n[1:2], n[1:], n[:2], n[:])\n",
        "#시험문제!!"
      ],
      "execution_count": 5,
      "outputs": [
        {
          "output_type": "stream",
          "text": [
            "100 300 300 100\n",
            "[200] [200, 300] [100, 200] [100, 200, 300]\n"
          ],
          "name": "stdout"
        }
      ]
    },
    {
      "cell_type": "code",
      "metadata": {
        "id": "yhH3dnJJurKf",
        "colab": {
          "base_uri": "https://localhost:8080/"
        },
        "outputId": "349b999f-4d59-45c9-ba85-98a1b88747c2"
      },
      "source": [
        "len(s) #s의 length"
      ],
      "execution_count": 8,
      "outputs": [
        {
          "output_type": "execute_result",
          "data": {
            "text/plain": [
              "6"
            ]
          },
          "metadata": {
            "tags": []
          },
          "execution_count": 8
        }
      ]
    },
    {
      "cell_type": "code",
      "metadata": {
        "colab": {
          "base_uri": "https://localhost:8080/"
        },
        "id": "tEAswNlJkC9-",
        "outputId": "1e81fa7a-9a4f-46a2-b698-d3b4c0ab2fae"
      },
      "source": [
        "len(n)"
      ],
      "execution_count": 7,
      "outputs": [
        {
          "output_type": "execute_result",
          "data": {
            "text/plain": [
              "3"
            ]
          },
          "metadata": {
            "tags": []
          },
          "execution_count": 7
        }
      ]
    },
    {
      "cell_type": "code",
      "metadata": {
        "id": "CuIxLEgWurKf",
        "outputId": "c4761aae-98cc-49d9-ba14-b29539b23da2"
      },
      "source": [
        "s[1]+s[3]+s[4:]*10 #b+d+ef*10"
      ],
      "execution_count": null,
      "outputs": [
        {
          "output_type": "execute_result",
          "data": {
            "text/plain": [
              "'bdefefefefefefefefefef'"
            ]
          },
          "metadata": {
            "tags": []
          },
          "execution_count": 5
        }
      ]
    },
    {
      "cell_type": "code",
      "metadata": {
        "id": "B-4Qj7h5urKg",
        "colab": {
          "base_uri": "https://localhost:8080/",
          "height": 35
        },
        "outputId": "ee742de4-085b-459f-e6cd-379ce2afcbba"
      },
      "source": [
        "s.upper() \r\n",
        "#s에 있는 것을 대문자로 바꾸어서 출력, 그러나 s 자체가 대문자로 바뀌는 것은 아님!"
      ],
      "execution_count": 13,
      "outputs": [
        {
          "output_type": "execute_result",
          "data": {
            "application/vnd.google.colaboratory.intrinsic+json": {
              "type": "string"
            },
            "text/plain": [
              "'ABCDEF'"
            ]
          },
          "metadata": {
            "tags": []
          },
          "execution_count": 13
        }
      ]
    },
    {
      "cell_type": "code",
      "metadata": {
        "colab": {
          "base_uri": "https://localhost:8080/",
          "height": 35
        },
        "id": "2isgUv3Oky-e",
        "outputId": "e7bc12d2-3948-4b9d-9130-c46709f61b25"
      },
      "source": [
        "s. lower()"
      ],
      "execution_count": 12,
      "outputs": [
        {
          "output_type": "execute_result",
          "data": {
            "application/vnd.google.colaboratory.intrinsic+json": {
              "type": "string"
            },
            "text/plain": [
              "'abcdef'"
            ]
          },
          "metadata": {
            "tags": []
          },
          "execution_count": 12
        }
      ]
    },
    {
      "cell_type": "code",
      "metadata": {
        "id": "NH4kiUqBurKg",
        "colab": {
          "base_uri": "https://localhost:8080/"
        },
        "outputId": "f43f3200-743e-4dbc-845c-90b8bfc8e6b8"
      },
      "source": [
        "s = ' this is a house built this year.\\nyes' \t\n",
        "print(s)"
      ],
      "execution_count": 47,
      "outputs": [
        {
          "output_type": "stream",
          "text": [
            " this is a house built this year.\n",
            "yes\n"
          ],
          "name": "stdout"
        }
      ]
    },
    {
      "cell_type": "code",
      "metadata": {
        "id": "fLQKJxqgurKg",
        "colab": {
          "base_uri": "https://localhost:8080/"
        },
        "outputId": "0a7cd80d-d3bb-4f7e-8dd4-a1bfe9dffbc1"
      },
      "source": [
        "result = s.find('house') \t    # index of first instance of string t inside s (-1 if not found)\n",
        "result"
      ],
      "execution_count": 38,
      "outputs": [
        {
          "output_type": "execute_result",
          "data": {
            "text/plain": [
              "11"
            ]
          },
          "metadata": {
            "tags": []
          },
          "execution_count": 38
        }
      ]
    },
    {
      "cell_type": "code",
      "metadata": {
        "id": "q8gAMAnFurKh",
        "colab": {
          "base_uri": "https://localhost:8080/"
        },
        "outputId": "658dc29e-77ca-4acf-9257-e48fa456cea6"
      },
      "source": [
        "result = s.find('this')\t    # index of last instance of string t inside s (-1 if not found)\n",
        "result #0 번째는 빈칸"
      ],
      "execution_count": 39,
      "outputs": [
        {
          "output_type": "execute_result",
          "data": {
            "text/plain": [
              "1"
            ]
          },
          "metadata": {
            "tags": []
          },
          "execution_count": 39
        }
      ]
    },
    {
      "cell_type": "code",
      "metadata": {
        "colab": {
          "base_uri": "https://localhost:8080/"
        },
        "id": "lH5RRKFim869",
        "outputId": "a7b30090-736a-4a6e-8cd2-7df439637e14"
      },
      "source": [
        "result = s.find('that')\r\n",
        "result #that이 없으니 -1이 출력됨"
      ],
      "execution_count": 40,
      "outputs": [
        {
          "output_type": "execute_result",
          "data": {
            "text/plain": [
              "-1"
            ]
          },
          "metadata": {
            "tags": []
          },
          "execution_count": 40
        }
      ]
    },
    {
      "cell_type": "code",
      "metadata": {
        "id": "hEP3BGLIurKh",
        "colab": {
          "base_uri": "https://localhost:8080/"
        },
        "outputId": "5e86f8c7-dff8-490b-bed3-4864d072cfbe"
      },
      "source": [
        "result = s.rindex('this')   #reverse index  # like s.find(t) except it raises ValueError if not found\n",
        "result"
      ],
      "execution_count": 41,
      "outputs": [
        {
          "output_type": "execute_result",
          "data": {
            "text/plain": [
              "23"
            ]
          },
          "metadata": {
            "tags": []
          },
          "execution_count": 41
        }
      ]
    },
    {
      "cell_type": "code",
      "metadata": {
        "id": "CpFnxuosurKh",
        "colab": {
          "base_uri": "https://localhost:8080/",
          "height": 35
        },
        "outputId": "5af38174-28fe-4b6f-8df9-d7d76396effe"
      },
      "source": [
        "s = s.strip()      \t            # a copy of s without leading or trailing whitespace\n",
        "s #줄바꿈, tab, 공백 등을 없애줌"
      ],
      "execution_count": 48,
      "outputs": [
        {
          "output_type": "execute_result",
          "data": {
            "application/vnd.google.colaboratory.intrinsic+json": {
              "type": "string"
            },
            "text/plain": [
              "'this is a house built this year.\\nyes'"
            ]
          },
          "metadata": {
            "tags": []
          },
          "execution_count": 48
        }
      ]
    },
    {
      "cell_type": "code",
      "metadata": {
        "id": "2upnpA4aurKi",
        "colab": {
          "base_uri": "https://localhost:8080/"
        },
        "outputId": "f2198cff-6e18-489f-ee7d-354204580d03"
      },
      "source": [
        "tokens = s.split(' ')\t # split s into a list wherever a t is found (whitespace by default)\n",
        " #s의 빈 칸을 찾아서 split한 뒤 list로 만들어라     \n",
        "tokens"
      ],
      "execution_count": 43,
      "outputs": [
        {
          "output_type": "execute_result",
          "data": {
            "text/plain": [
              "['this', 'is', 'a', 'house', 'built', 'this', 'year.\\nyes']"
            ]
          },
          "metadata": {
            "tags": []
          },
          "execution_count": 43
        }
      ]
    },
    {
      "cell_type": "code",
      "metadata": {
        "id": "HIUkcuqaurKi",
        "colab": {
          "base_uri": "https://localhost:8080/",
          "height": 35
        },
        "outputId": "751d2cf1-9799-4820-b23d-8ffa93ce1ad5"
      },
      "source": [
        "s = ' '.join(tokens)\t        # combine the words of the text into a string using s as the glue\n",
        "#token 안에 있는 단어들을 공백으로 join 시켜라\n",
        "s"
      ],
      "execution_count": 44,
      "outputs": [
        {
          "output_type": "execute_result",
          "data": {
            "application/vnd.google.colaboratory.intrinsic+json": {
              "type": "string"
            },
            "text/plain": [
              "'this is a house built this year.\\nyes'"
            ]
          },
          "metadata": {
            "tags": []
          },
          "execution_count": 44
        }
      ]
    },
    {
      "cell_type": "code",
      "metadata": {
        "id": "NZC37X6eurKi",
        "colab": {
          "base_uri": "https://localhost:8080/",
          "height": 35
        },
        "outputId": "f1fa7bab-3077-4161-bb5c-8e685aa0ab97"
      },
      "source": [
        "s = s.replace('this', 'that')   # replace instances of t with u inside s\n",
        "s"
      ],
      "execution_count": 45,
      "outputs": [
        {
          "output_type": "execute_result",
          "data": {
            "application/vnd.google.colaboratory.intrinsic+json": {
              "type": "string"
            },
            "text/plain": [
              "'that is a house built that year.\\nyes'"
            ]
          },
          "metadata": {
            "tags": []
          },
          "execution_count": 45
        }
      ]
    },
    {
      "cell_type": "markdown",
      "metadata": {
        "id": "jvnwUTlQrk1D"
      },
      "source": [
        "a[] 괄호 안에 들어가는 것은 반드시 int, a[1.5]와 같은 형태 안됨,\r\n",
        "\r\n",
        "a=['1', 2]에서 a[0] 하면 결과값이 1로 나오지만 string임!-->문자열을 print하면 따옴표 없이 출력"
      ]
    },
    {
      "cell_type": "code",
      "metadata": {
        "id": "_ulHd8UlrmaO"
      },
      "source": [
        ""
      ],
      "execution_count": null,
      "outputs": []
    }
  ]
}