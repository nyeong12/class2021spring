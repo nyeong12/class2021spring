{
  "nbformat": 4,
  "nbformat_minor": 0,
  "metadata": {
    "colab": {
      "name": "programming.ipynb",
      "provenance": []
    },
    "kernelspec": {
      "name": "python3",
      "display_name": "Python 3"
    }
  },
  "cells": [
    {
      "cell_type": "markdown",
      "metadata": {
        "id": "wCFtKAZlo8uC"
      },
      "source": [
        "## 변수\r\n",
        "컴퓨터 프로그래밍 언어에서\r\n",
        "변수(variable)=내용 \r\n",
        "*여기서 '='는 assign의 의미(오른쪽의 내용을 왼쪽에)"
      ]
    },
    {
      "cell_type": "markdown",
      "metadata": {
        "id": "uinzGYm6prvZ"
      },
      "source": [
        "##제어문\r\n",
        "1. 반복문 ex. for\r\n",
        "2. 조건문 ex. if"
      ]
    },
    {
      "cell_type": "markdown",
      "metadata": {
        "id": "wCeEqy-5pzr0"
      },
      "source": [
        "## 함수\r\n",
        "- 입출력 관계를 의미\r\n",
        "- y=f(x)에서 x는 입력, y는 출력\r\n",
        "ex. y= ax+b, 인간의 몸\r\n",
        "ex.function add(a,b), a=1, b=1인 경우 --> c = a+b --> c "
      ]
    },
    {
      "cell_type": "markdown",
      "metadata": {
        "id": "nqbxo5moqpKJ"
      },
      "source": [
        ""
      ]
    }
  ]
}