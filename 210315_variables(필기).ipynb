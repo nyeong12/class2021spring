{
  "nbformat": 4,
  "nbformat_minor": 0,
  "metadata": {
    "kernelspec": {
      "display_name": "Python 3",
      "language": "python",
      "name": "python3"
    },
    "language_info": {
      "codemirror_mode": {
        "name": "ipython",
        "version": 3
      },
      "file_extension": ".py",
      "mimetype": "text/x-python",
      "name": "python",
      "nbconvert_exporter": "python",
      "pygments_lexer": "ipython3",
      "version": "3.7.1"
    },
    "colab": {
      "name": "variables.ipynb",
      "provenance": []
    }
  },
  "cells": [
    {
      "cell_type": "code",
      "metadata": {
        "colab": {
          "base_uri": "https://localhost:8080/"
        },
        "id": "98fc-yNENtXK",
        "outputId": "f605b4e9-705a-46ac-af42-7956a5409ea0"
      },
      "source": [
        "a=1\r\n",
        "b=2\r\n",
        "c=3\r\n",
        "print(a) #그냥 a로 해도 1이라는 결과 나옴!"
      ],
      "execution_count": 1,
      "outputs": [
        {
          "output_type": "stream",
          "text": [
            "1\n"
          ],
          "name": "stdout"
        }
      ]
    },
    {
      "cell_type": "code",
      "metadata": {
        "colab": {
          "base_uri": "https://localhost:8080/"
        },
        "id": "4NjNoQCaOFbT",
        "outputId": "b5ae3612-42e1-4797-d5fa-022ed90b7f4f"
      },
      "source": [
        "a=1\r\n",
        "a\r\n",
        "b=2\r\n",
        "b\r\n",
        "c=3\r\n",
        "c #a,b 무시하고 c 결과만 나옴"
      ],
      "execution_count": 3,
      "outputs": [
        {
          "output_type": "execute_result",
          "data": {
            "text/plain": [
              "3"
            ]
          },
          "metadata": {
            "tags": []
          },
          "execution_count": 3
        }
      ]
    },
    {
      "cell_type": "code",
      "metadata": {
        "colab": {
          "base_uri": "https://localhost:8080/"
        },
        "id": "VYmE2RFwO4O3",
        "outputId": "58edb72e-4e64-4a58-bd57-900d10cbe224"
      },
      "source": [
        "a=1\r\n",
        "print(a)\r\n",
        "b=2\r\n",
        "print(b)\r\n",
        "c=3 \r\n",
        "print(c)\r\n",
        "\r\n"
      ],
      "execution_count": 4,
      "outputs": [
        {
          "output_type": "stream",
          "text": [
            "1\n",
            "2\n",
            "3\n"
          ],
          "name": "stdout"
        }
      ]
    },
    {
      "cell_type": "code",
      "metadata": {
        "colab": {
          "base_uri": "https://localhost:8080/"
        },
        "id": "syB9Cu4UP50-",
        "outputId": "cc0f704d-07ef-4da0-85c6-67383b7cfc36"
      },
      "source": [
        "a = 1; print(type(a)) #한 줄로 쓰고 싶을 때 세미콜론"
      ],
      "execution_count": 5,
      "outputs": [
        {
          "output_type": "stream",
          "text": [
            "<class 'int'>\n"
          ],
          "name": "stdout"
        }
      ]
    },
    {
      "cell_type": "code",
      "metadata": {
        "colab": {
          "base_uri": "https://localhost:8080/"
        },
        "id": "tALTQwBgQKKs",
        "outputId": "9daefd1d-dcfc-4c4f-8ebe-73c460fc4fbe"
      },
      "source": [
        "a=1.22; print(type(a))"
      ],
      "execution_count": 6,
      "outputs": [
        {
          "output_type": "stream",
          "text": [
            "<class 'float'>\n"
          ],
          "name": "stdout"
        }
      ]
    },
    {
      "cell_type": "code",
      "metadata": {
        "id": "txxnoqJuRheJ",
        "colab": {
          "base_uri": "https://localhost:8080/"
        },
        "outputId": "2260790d-7917-43f7-98d3-861ca6c77f0d"
      },
      "source": [
        "a = 1; a = float(a); print(type(a)) #a를 float로 바꿔라 --> 1.0으로 바뀜\r\n",
        "print(a)"
      ],
      "execution_count": 7,
      "outputs": [
        {
          "output_type": "stream",
          "text": [
            "<class 'float'>\n",
            "1.0\n"
          ],
          "name": "stdout"
        }
      ]
    },
    {
      "cell_type": "code",
      "metadata": {
        "id": "By9UCBctRheK",
        "colab": {
          "base_uri": "https://localhost:8080/"
        },
        "outputId": "63083fea-7113-49fc-a5ef-a50bc5fe8709"
      },
      "source": [
        "a = 1.2; a = int(a); print(type(a)) #a를 int.로 바꿔라\r\n",
        "print(a)"
      ],
      "execution_count": 8,
      "outputs": [
        {
          "output_type": "stream",
          "text": [
            "<class 'int'>\n",
            "1\n"
          ],
          "name": "stdout"
        }
      ]
    },
    {
      "cell_type": "code",
      "metadata": {
        "colab": {
          "base_uri": "https://localhost:8080/",
          "height": 53
        },
        "id": "FQet-FXyRJ4a",
        "outputId": "ca62b43b-d13b-48ac-ce69-94f92eef1ce0"
      },
      "source": [
        "a=\"korea\" #double quote써도 str으로 나오지만 가능한 single quote를 쓰자\r\n",
        "print(type(a))\r\n",
        "a[0] #가장 첫 글자가 0번째\r\n"
      ],
      "execution_count": 10,
      "outputs": [
        {
          "output_type": "stream",
          "text": [
            "<class 'str'>\n"
          ],
          "name": "stdout"
        },
        {
          "output_type": "execute_result",
          "data": {
            "application/vnd.google.colaboratory.intrinsic+json": {
              "type": "string"
            },
            "text/plain": [
              "'k'"
            ]
          },
          "metadata": {
            "tags": []
          },
          "execution_count": 10
        }
      ]
    },
    {
      "cell_type": "code",
      "metadata": {
        "id": "SyP0PB86RheL",
        "outputId": "e10d274f-e7fd-4cdd-a822-847fb83560ec"
      },
      "source": [
        "a = '123'#이 때 123은 숫자가 아니라 string\r\n",
        "print(type(a))\r\n",
        "print(a[1]) "
      ],
      "execution_count": null,
      "outputs": [
        {
          "output_type": "stream",
          "text": [
            "<class 'str'>\n",
            "2\n"
          ],
          "name": "stdout"
        }
      ]
    },
    {
      "cell_type": "code",
      "metadata": {
        "id": "byDy9oFERheL",
        "colab": {
          "base_uri": "https://localhost:8080/"
        },
        "outputId": "87a3f0e5-0211-4175-cad0-c1d7ba749136"
      },
      "source": [
        "a = '123'\r\n",
        "a = list(a) #a를 list 형태로 바꿔라\r\n",
        "a"
      ],
      "execution_count": 12,
      "outputs": [
        {
          "output_type": "execute_result",
          "data": {
            "text/plain": [
              "['1', '2', '3']"
            ]
          },
          "metadata": {
            "tags": []
          },
          "execution_count": 12
        }
      ]
    },
    {
      "cell_type": "code",
      "metadata": {
        "colab": {
          "base_uri": "https://localhost:8080/"
        },
        "id": "u2uPFJw9R3S6",
        "outputId": "05e1d10b-a15a-4a4c-e5f8-81344d0f1d18"
      },
      "source": [
        "a='123'\r\n",
        "print(type(a))\r\n",
        "a=list(a)\r\n",
        "print(type(a))"
      ],
      "execution_count": 15,
      "outputs": [
        {
          "output_type": "stream",
          "text": [
            "<class 'str'>\n",
            "<class 'list'>\n"
          ],
          "name": "stdout"
        }
      ]
    },
    {
      "cell_type": "code",
      "metadata": {
        "id": "9soP8XZgSdij"
      },
      "source": [
        "#list: 여러 개가 들어가 있는 것\r\n",
        "a=[1,2,3,4]; a=['ab', 'cde', 'jky'] #어떤 type(int.str.등등)이 들어와도 상관 없음"
      ],
      "execution_count": null,
      "outputs": []
    },
    {
      "cell_type": "code",
      "metadata": {
        "id": "DfS-gknCRheL",
        "colab": {
          "base_uri": "https://localhost:8080/"
        },
        "outputId": "0e4268c3-3195-4415-c86b-29b23b676206"
      },
      "source": [
        "a = [1,'2', [3, '4']] #list 안에는 어떤 type(int.str. 등등)이 들어가도 상관 없음\r\n",
        "print(type(a)) \r\n",
        "print(a[0]); print(a[1]); print(a[2])\r\n",
        "#중요!!-list에서 n번째 출력(그냥 a[0]해도 됨)"
      ],
      "execution_count": 17,
      "outputs": [
        {
          "output_type": "stream",
          "text": [
            "<class 'list'>\n",
            "1\n",
            "2\n",
            "[3, '4']\n"
          ],
          "name": "stdout"
        }
      ]
    },
    {
      "cell_type": "code",
      "metadata": {
        "colab": {
          "base_uri": "https://localhost:8080/"
        },
        "id": "pzbVcIWWVqYv",
        "outputId": "d6349e0a-1331-4008-e067-1d9e2513279a"
      },
      "source": [
        "a = (1,'2', [3, '4'])\r\n",
        "print(type(a)); print(a[0]); print(a[1]); print(a[2])"
      ],
      "execution_count": 20,
      "outputs": [
        {
          "output_type": "stream",
          "text": [
            "<class 'tuple'>\n",
            "1\n",
            "2\n",
            "[3, '4']\n"
          ],
          "name": "stdout"
        }
      ]
    },
    {
      "cell_type": "code",
      "metadata": {
        "colab": {
          "base_uri": "https://localhost:8080/"
        },
        "id": "LfeNdSFbU6tX",
        "outputId": "25de08d4-a1f5-467d-e4a6-b0028e18c0b2"
      },
      "source": [
        "#list와 tuple의 차이1: 괄호가 list는 [], tuple은 () \r\n",
        "a=[1,2,3]\r\n",
        "a[0]=-1 #a의 0번째에 -1을 assign하라\r\n",
        "a"
      ],
      "execution_count": 18,
      "outputs": [
        {
          "output_type": "execute_result",
          "data": {
            "text/plain": [
              "[-1, 2, 3]"
            ]
          },
          "metadata": {
            "tags": []
          },
          "execution_count": 18
        }
      ]
    },
    {
      "cell_type": "code",
      "metadata": {
        "colab": {
          "base_uri": "https://localhost:8080/",
          "height": 204
        },
        "id": "45jdH8lQVONj",
        "outputId": "6cc96068-71f5-41d1-9ea0-7e8be9e01f6e"
      },
      "source": [
        "#차이2: tuple은 list와 달리 바꿀 수 없기 때문에 data적인 측면에서 안전\r\n",
        "a=(1,2,3) \r\n",
        "a[0]=-1 #a의 0번째에 -1을 assign하라\r\n",
        "a "
      ],
      "execution_count": 19,
      "outputs": [
        {
          "output_type": "error",
          "ename": "TypeError",
          "evalue": "ignored",
          "traceback": [
            "\u001b[0;31m---------------------------------------------------------------------------\u001b[0m",
            "\u001b[0;31mTypeError\u001b[0m                                 Traceback (most recent call last)",
            "\u001b[0;32m<ipython-input-19-ee78cb072f8d>\u001b[0m in \u001b[0;36m<module>\u001b[0;34m()\u001b[0m\n\u001b[1;32m      1\u001b[0m \u001b[0ma\u001b[0m\u001b[0;34m=\u001b[0m\u001b[0;34m(\u001b[0m\u001b[0;36m1\u001b[0m\u001b[0;34m,\u001b[0m\u001b[0;36m2\u001b[0m\u001b[0;34m,\u001b[0m\u001b[0;36m3\u001b[0m\u001b[0;34m)\u001b[0m\u001b[0;34m\u001b[0m\u001b[0;34m\u001b[0m\u001b[0m\n\u001b[0;32m----> 2\u001b[0;31m \u001b[0ma\u001b[0m\u001b[0;34m[\u001b[0m\u001b[0;36m0\u001b[0m\u001b[0;34m]\u001b[0m\u001b[0;34m=\u001b[0m\u001b[0;34m-\u001b[0m\u001b[0;36m1\u001b[0m \u001b[0;31m#a의 0번째에 -1을 assign하라\u001b[0m\u001b[0;34m\u001b[0m\u001b[0;34m\u001b[0m\u001b[0m\n\u001b[0m\u001b[1;32m      3\u001b[0m \u001b[0ma\u001b[0m\u001b[0;34m\u001b[0m\u001b[0;34m\u001b[0m\u001b[0m\n",
            "\u001b[0;31mTypeError\u001b[0m: 'tuple' object does not support item assignment"
          ]
        }
      ]
    },
    {
      "cell_type": "code",
      "metadata": {
        "id": "2sivfloGRheM",
        "outputId": "5c768bb7-e02b-4c87-a76e-3e992cdb244e"
      },
      "source": [
        "a =\t{\"a\": \"apple\", \"b\": \"orange\", \"c\": 2014} #single quote도 가능\n",
        "print(type(a))\n",
        "print(a[\"a\"]) #dict는 n번째가 아니라 표제어를 괄호 안에 넣고 : 뒤의 값이 결과로 나옴"
      ],
      "execution_count": null,
      "outputs": [
        {
          "output_type": "stream",
          "text": [
            "<class 'dict'>\n",
            "apple\n"
          ],
          "name": "stdout"
        }
      ]
    },
    {
      "cell_type": "code",
      "metadata": {
        "colab": {
          "base_uri": "https://localhost:8080/",
          "height": 169
        },
        "id": "t5UUM40XXooz",
        "outputId": "979effc4-3be8-47cb-d897-567e8ad7696b"
      },
      "source": [
        "print(a[1])"
      ],
      "execution_count": 22,
      "outputs": [
        {
          "output_type": "error",
          "ename": "KeyError",
          "evalue": "ignored",
          "traceback": [
            "\u001b[0;31m---------------------------------------------------------------------------\u001b[0m",
            "\u001b[0;31mKeyError\u001b[0m                                  Traceback (most recent call last)",
            "\u001b[0;32m<ipython-input-22-bb6a8a2f4689>\u001b[0m in \u001b[0;36m<module>\u001b[0;34m()\u001b[0m\n\u001b[0;32m----> 1\u001b[0;31m \u001b[0mprint\u001b[0m\u001b[0;34m(\u001b[0m\u001b[0ma\u001b[0m\u001b[0;34m[\u001b[0m\u001b[0;36m1\u001b[0m\u001b[0;34m]\u001b[0m\u001b[0;34m)\u001b[0m\u001b[0;34m\u001b[0m\u001b[0;34m\u001b[0m\u001b[0m\n\u001b[0m",
            "\u001b[0;31mKeyError\u001b[0m: 1"
          ]
        }
      ]
    },
    {
      "cell_type": "code",
      "metadata": {
        "colab": {
          "base_uri": "https://localhost:8080/"
        },
        "id": "e63IELO4XI7f",
        "outputId": "3e1d8f94-9fbd-4173-a9eb-67ba34678b3f"
      },
      "source": [
        "a =\t{\"a\": \"apple\", \"b\": \"orange\", \"c\": 2014}\r\n",
        "a['c'] = 2021\r\n",
        "a"
      ],
      "execution_count": 21,
      "outputs": [
        {
          "output_type": "execute_result",
          "data": {
            "text/plain": [
              "{'a': 'apple', 'b': 'orange', 'c': 2021}"
            ]
          },
          "metadata": {
            "tags": []
          },
          "execution_count": 21
        }
      ]
    },
    {
      "cell_type": "code",
      "metadata": {
        "id": "A7teRXuCRheN",
        "outputId": "79a99306-d858-4682-a61e-a21c74bd903d"
      },
      "source": [
        "a=[(1,2,3), (3,8,0)]\n",
        "print(type(a))\n",
        "a"
      ],
      "execution_count": null,
      "outputs": [
        {
          "output_type": "stream",
          "text": [
            "<class 'list'>\n"
          ],
          "name": "stdout"
        },
        {
          "output_type": "execute_result",
          "data": {
            "text/plain": [
              "[(1, 2, 3), (3, 8, 0)]"
            ]
          },
          "metadata": {
            "tags": []
          },
          "execution_count": 27
        }
      ]
    }
  ]
}