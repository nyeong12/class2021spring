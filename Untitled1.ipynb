{
  "nbformat": 4,
  "nbformat_minor": 0,
  "metadata": {
    "colab": {
      "name": "Untitled1.ipynb",
      "provenance": [],
      "collapsed_sections": []
    },
    "kernelspec": {
      "name": "python3",
      "display_name": "Python 3"
    }
  },
  "cells": [
    {
      "cell_type": "code",
      "metadata": {
        "id": "TFk26At2ZUjs"
      },
      "source": [
        ""
      ],
      "execution_count": null,
      "outputs": []
    },
    {
      "cell_type": "code",
      "metadata": {
        "id": "dWlKFBiZZVgD"
      },
      "source": [
        "a=1"
      ],
      "execution_count": null,
      "outputs": []
    },
    {
      "cell_type": "code",
      "metadata": {
        "id": "3u6eZ9w2Zao6",
        "colab": {
          "base_uri": "https://localhost:8080/"
        },
        "outputId": "88344282-8a3a-4c17-f49f-69bdd180187d"
      },
      "source": [
        "a=1\r\n",
        "b=1\r\n",
        "c=a+b\r\n",
        "c"
      ],
      "execution_count": 3,
      "outputs": [
        {
          "output_type": "execute_result",
          "data": {
            "text/plain": [
              "2"
            ]
          },
          "metadata": {
            "tags": []
          },
          "execution_count": 3
        }
      ]
    },
    {
      "cell_type": "markdown",
      "metadata": {
        "id": "t56DA163ZkBt"
      },
      "source": [
        "파이썬 배우기"
      ]
    }
  ]
}